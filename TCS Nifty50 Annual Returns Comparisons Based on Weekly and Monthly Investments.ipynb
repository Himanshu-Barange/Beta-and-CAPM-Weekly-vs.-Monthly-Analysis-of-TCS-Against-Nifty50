{
 "cells": [
  {
   "cell_type": "code",
   "execution_count": 1,
   "id": "68191ab8",
   "metadata": {},
   "outputs": [],
   "source": [
    "import pandas as pd\n",
    "import numpy as np\n",
    "import matplotlib.pyplot as plt\n",
    "import seaborn as sns"
   ]
  },
  {
   "cell_type": "markdown",
   "id": "050d41d9",
   "metadata": {},
   "source": [
    "## Files Containing Historical Weekly Data\n",
    "\n",
    "- **Source:** Yahoo Finance ([TCS](https://finance.yahoo.com/quote/TCS.NS/history?p=TCS.NS))([Nifty50](https://finance.yahoo.com/quote/%5ENSEI/history?p=%5ENSEI))\n",
    "- **Time Period:** 30Sept2020 to 30Sept2023\n",
    "- **Frequency:** Weekly"
   ]
  },
  {
   "cell_type": "code",
   "execution_count": 2,
   "id": "8cc059f3",
   "metadata": {},
   "outputs": [],
   "source": [
    "n50 = pd.read_csv('C:/Users/himan/Documents/Books/Coding Project/Version 1/Databases/Datasets List1/Yahoo Finance/TCS beta Nifty50/NSE 30 sept 2020 to 30sep 2023 weekly historical prices yahoo finance.csv')\n",
    "tcs = pd.read_csv('C:/Users/himan/Documents/Books/Coding Project/Version 1/Databases/Datasets List1/Yahoo Finance/TCS beta Nifty50/TCS 30 sept 2020 to 30sep 2023 weekly historical prices yahoo finance.csv')"
   ]
  },
  {
   "cell_type": "code",
   "execution_count": 3,
   "id": "bc6e6c12",
   "metadata": {},
   "outputs": [
    {
     "data": {
      "text/html": [
       "<div>\n",
       "<style scoped>\n",
       "    .dataframe tbody tr th:only-of-type {\n",
       "        vertical-align: middle;\n",
       "    }\n",
       "\n",
       "    .dataframe tbody tr th {\n",
       "        vertical-align: top;\n",
       "    }\n",
       "\n",
       "    .dataframe thead th {\n",
       "        text-align: right;\n",
       "    }\n",
       "</style>\n",
       "<table border=\"1\" class=\"dataframe\">\n",
       "  <thead>\n",
       "    <tr style=\"text-align: right;\">\n",
       "      <th></th>\n",
       "      <th>Date</th>\n",
       "      <th>Open</th>\n",
       "      <th>High</th>\n",
       "      <th>Low</th>\n",
       "      <th>Close</th>\n",
       "      <th>Adj Close</th>\n",
       "      <th>Volume</th>\n",
       "    </tr>\n",
       "  </thead>\n",
       "  <tbody>\n",
       "    <tr>\n",
       "      <th>0</th>\n",
       "      <td>28-09-2020</td>\n",
       "      <td>11244.45020</td>\n",
       "      <td>11428.59961</td>\n",
       "      <td>11184.54981</td>\n",
       "      <td>11416.9502</td>\n",
       "      <td>11416.9502</td>\n",
       "      <td>947000</td>\n",
       "    </tr>\n",
       "    <tr>\n",
       "      <th>1</th>\n",
       "      <td>05-10-2020</td>\n",
       "      <td>11487.79981</td>\n",
       "      <td>11938.59961</td>\n",
       "      <td>11452.29981</td>\n",
       "      <td>11914.2002</td>\n",
       "      <td>11914.2002</td>\n",
       "      <td>2825300</td>\n",
       "    </tr>\n",
       "  </tbody>\n",
       "</table>\n",
       "</div>"
      ],
      "text/plain": [
       "         Date         Open         High          Low       Close   Adj Close  \\\n",
       "0  28-09-2020  11244.45020  11428.59961  11184.54981  11416.9502  11416.9502   \n",
       "1  05-10-2020  11487.79981  11938.59961  11452.29981  11914.2002  11914.2002   \n",
       "\n",
       "    Volume  \n",
       "0   947000  \n",
       "1  2825300  "
      ]
     },
     "metadata": {},
     "output_type": "display_data"
    },
    {
     "data": {
      "text/html": [
       "<div>\n",
       "<style scoped>\n",
       "    .dataframe tbody tr th:only-of-type {\n",
       "        vertical-align: middle;\n",
       "    }\n",
       "\n",
       "    .dataframe tbody tr th {\n",
       "        vertical-align: top;\n",
       "    }\n",
       "\n",
       "    .dataframe thead th {\n",
       "        text-align: right;\n",
       "    }\n",
       "</style>\n",
       "<table border=\"1\" class=\"dataframe\">\n",
       "  <thead>\n",
       "    <tr style=\"text-align: right;\">\n",
       "      <th></th>\n",
       "      <th>Date</th>\n",
       "      <th>Open</th>\n",
       "      <th>High</th>\n",
       "      <th>Low</th>\n",
       "      <th>Close</th>\n",
       "      <th>Adj Close</th>\n",
       "      <th>Volume</th>\n",
       "    </tr>\n",
       "  </thead>\n",
       "  <tbody>\n",
       "    <tr>\n",
       "      <th>0</th>\n",
       "      <td>2020-09-28</td>\n",
       "      <td>2489.0</td>\n",
       "      <td>2540.0</td>\n",
       "      <td>2460.000000</td>\n",
       "      <td>2523.449951</td>\n",
       "      <td>2379.151611</td>\n",
       "      <td>6527503</td>\n",
       "    </tr>\n",
       "    <tr>\n",
       "      <th>1</th>\n",
       "      <td>2020-10-05</td>\n",
       "      <td>2620.0</td>\n",
       "      <td>2885.0</td>\n",
       "      <td>2603.050049</td>\n",
       "      <td>2812.949951</td>\n",
       "      <td>2652.096924</td>\n",
       "      <td>64493147</td>\n",
       "    </tr>\n",
       "  </tbody>\n",
       "</table>\n",
       "</div>"
      ],
      "text/plain": [
       "         Date    Open    High          Low        Close    Adj Close    Volume\n",
       "0  2020-09-28  2489.0  2540.0  2460.000000  2523.449951  2379.151611   6527503\n",
       "1  2020-10-05  2620.0  2885.0  2603.050049  2812.949951  2652.096924  64493147"
      ]
     },
     "metadata": {},
     "output_type": "display_data"
    }
   ],
   "source": [
    "display(\n",
    "n50.head(2),\n",
    "tcs.head(2)\n",
    ")"
   ]
  },
  {
   "cell_type": "markdown",
   "id": "87f3606e",
   "metadata": {},
   "source": [
    "## Risk Free Rate\n",
    "\n",
    "- **Source:** [RBI Database on Indian Economy](https://cimsdbie.rbi.org.in/#/dbie/home)\n",
    "- CSV File is also attached in GitHub repository.\n",
    "\n",
    "<p>\n",
    "    \n",
    "- savings rate is used; as call money rate is not accessible to general public and 1 year term deposit rate would have a different time frame\n",
    "- savings rate ranged from 2.7-3.0 throughout 2020-2023, therefore, I have taken 2.9% as estimation"
   ]
  },
  {
   "cell_type": "code",
   "execution_count": 4,
   "id": "08f4a867",
   "metadata": {},
   "outputs": [],
   "source": [
    "risk_free_rate = 0.029/52"
   ]
  },
  {
   "cell_type": "markdown",
   "id": "11da8bd2",
   "metadata": {},
   "source": [
    "## Weekly Return of TCS and Nifty50"
   ]
  },
  {
   "cell_type": "markdown",
   "id": "87e305c8",
   "metadata": {},
   "source": [
    "- Adjusted Close Price is used for calculating weekly return."
   ]
  },
  {
   "cell_type": "code",
   "execution_count": 5,
   "id": "e3ad86c5",
   "metadata": {},
   "outputs": [
    {
     "name": "stdout",
     "output_type": "stream",
     "text": [
      "Nifty50 Average Weekly Return: 0.0036790556675371875\n"
     ]
    },
    {
     "data": {
      "text/html": [
       "<div>\n",
       "<style scoped>\n",
       "    .dataframe tbody tr th:only-of-type {\n",
       "        vertical-align: middle;\n",
       "    }\n",
       "\n",
       "    .dataframe tbody tr th {\n",
       "        vertical-align: top;\n",
       "    }\n",
       "\n",
       "    .dataframe thead th {\n",
       "        text-align: right;\n",
       "    }\n",
       "</style>\n",
       "<table border=\"1\" class=\"dataframe\">\n",
       "  <thead>\n",
       "    <tr style=\"text-align: right;\">\n",
       "      <th></th>\n",
       "      <th>Date</th>\n",
       "      <th>Open</th>\n",
       "      <th>High</th>\n",
       "      <th>Low</th>\n",
       "      <th>Close</th>\n",
       "      <th>Adj Close</th>\n",
       "      <th>Volume</th>\n",
       "      <th>Weekly_Return</th>\n",
       "    </tr>\n",
       "  </thead>\n",
       "  <tbody>\n",
       "    <tr>\n",
       "      <th>1</th>\n",
       "      <td>05-10-2020</td>\n",
       "      <td>11487.79981</td>\n",
       "      <td>11938.59961</td>\n",
       "      <td>11452.29981</td>\n",
       "      <td>11914.20020</td>\n",
       "      <td>11914.20020</td>\n",
       "      <td>2825300</td>\n",
       "      <td>0.043554</td>\n",
       "    </tr>\n",
       "    <tr>\n",
       "      <th>2</th>\n",
       "      <td>12-10-2020</td>\n",
       "      <td>11973.54981</td>\n",
       "      <td>12025.45020</td>\n",
       "      <td>11661.29981</td>\n",
       "      <td>11762.45020</td>\n",
       "      <td>11762.45020</td>\n",
       "      <td>2714800</td>\n",
       "      <td>-0.012737</td>\n",
       "    </tr>\n",
       "    <tr>\n",
       "      <th>3</th>\n",
       "      <td>19-10-2020</td>\n",
       "      <td>11879.20020</td>\n",
       "      <td>12018.65039</td>\n",
       "      <td>11775.75000</td>\n",
       "      <td>11930.34961</td>\n",
       "      <td>11930.34961</td>\n",
       "      <td>2665900</td>\n",
       "      <td>0.014274</td>\n",
       "    </tr>\n",
       "    <tr>\n",
       "      <th>4</th>\n",
       "      <td>26-10-2020</td>\n",
       "      <td>11937.40039</td>\n",
       "      <td>11942.84961</td>\n",
       "      <td>11535.45020</td>\n",
       "      <td>11642.40039</td>\n",
       "      <td>11642.40039</td>\n",
       "      <td>2948800</td>\n",
       "      <td>-0.024136</td>\n",
       "    </tr>\n",
       "    <tr>\n",
       "      <th>5</th>\n",
       "      <td>02-11-2020</td>\n",
       "      <td>11697.34961</td>\n",
       "      <td>12280.40039</td>\n",
       "      <td>11557.40039</td>\n",
       "      <td>12263.54981</td>\n",
       "      <td>12263.54981</td>\n",
       "      <td>3119300</td>\n",
       "      <td>0.053352</td>\n",
       "    </tr>\n",
       "  </tbody>\n",
       "</table>\n",
       "</div>"
      ],
      "text/plain": [
       "         Date         Open         High          Low        Close  \\\n",
       "1  05-10-2020  11487.79981  11938.59961  11452.29981  11914.20020   \n",
       "2  12-10-2020  11973.54981  12025.45020  11661.29981  11762.45020   \n",
       "3  19-10-2020  11879.20020  12018.65039  11775.75000  11930.34961   \n",
       "4  26-10-2020  11937.40039  11942.84961  11535.45020  11642.40039   \n",
       "5  02-11-2020  11697.34961  12280.40039  11557.40039  12263.54981   \n",
       "\n",
       "     Adj Close   Volume  Weekly_Return  \n",
       "1  11914.20020  2825300       0.043554  \n",
       "2  11762.45020  2714800      -0.012737  \n",
       "3  11930.34961  2665900       0.014274  \n",
       "4  11642.40039  2948800      -0.024136  \n",
       "5  12263.54981  3119300       0.053352  "
      ]
     },
     "metadata": {},
     "output_type": "display_data"
    }
   ],
   "source": [
    "n50['Weekly_Return'] = n50['Adj Close'].pct_change()\n",
    "n50.dropna(inplace = True)\n",
    "n50_weekly_return = n50['Weekly_Return']\n",
    "n50_avg_weekly_return = n50_weekly_return.mean()\n",
    "\n",
    "print(f'Nifty50 Average Weekly Return: {n50_avg_weekly_return}')\n",
    "display(n50.head())"
   ]
  },
  {
   "cell_type": "code",
   "execution_count": 6,
   "id": "c8c19cfa",
   "metadata": {},
   "outputs": [
    {
     "name": "stdout",
     "output_type": "stream",
     "text": [
      "TCS Average Weekly Return: 0.002996843011940713\n"
     ]
    },
    {
     "data": {
      "text/html": [
       "<div>\n",
       "<style scoped>\n",
       "    .dataframe tbody tr th:only-of-type {\n",
       "        vertical-align: middle;\n",
       "    }\n",
       "\n",
       "    .dataframe tbody tr th {\n",
       "        vertical-align: top;\n",
       "    }\n",
       "\n",
       "    .dataframe thead th {\n",
       "        text-align: right;\n",
       "    }\n",
       "</style>\n",
       "<table border=\"1\" class=\"dataframe\">\n",
       "  <thead>\n",
       "    <tr style=\"text-align: right;\">\n",
       "      <th></th>\n",
       "      <th>Date</th>\n",
       "      <th>Open</th>\n",
       "      <th>High</th>\n",
       "      <th>Low</th>\n",
       "      <th>Close</th>\n",
       "      <th>Adj Close</th>\n",
       "      <th>Volume</th>\n",
       "      <th>Weekly_Return</th>\n",
       "    </tr>\n",
       "  </thead>\n",
       "  <tbody>\n",
       "    <tr>\n",
       "      <th>1</th>\n",
       "      <td>2020-10-05</td>\n",
       "      <td>2620.000000</td>\n",
       "      <td>2885.000000</td>\n",
       "      <td>2603.050049</td>\n",
       "      <td>2812.949951</td>\n",
       "      <td>2652.096924</td>\n",
       "      <td>64493147</td>\n",
       "      <td>0.114724</td>\n",
       "    </tr>\n",
       "    <tr>\n",
       "      <th>2</th>\n",
       "      <td>2020-10-12</td>\n",
       "      <td>2815.500000</td>\n",
       "      <td>2854.899902</td>\n",
       "      <td>2727.000000</td>\n",
       "      <td>2763.300049</td>\n",
       "      <td>2605.286865</td>\n",
       "      <td>25132145</td>\n",
       "      <td>-0.017650</td>\n",
       "    </tr>\n",
       "    <tr>\n",
       "      <th>3</th>\n",
       "      <td>2020-10-19</td>\n",
       "      <td>2774.000000</td>\n",
       "      <td>2774.000000</td>\n",
       "      <td>2638.100098</td>\n",
       "      <td>2686.800049</td>\n",
       "      <td>2543.961182</td>\n",
       "      <td>20068995</td>\n",
       "      <td>-0.023539</td>\n",
       "    </tr>\n",
       "    <tr>\n",
       "      <th>4</th>\n",
       "      <td>2020-10-26</td>\n",
       "      <td>2689.949951</td>\n",
       "      <td>2718.149902</td>\n",
       "      <td>2600.250000</td>\n",
       "      <td>2664.850098</td>\n",
       "      <td>2523.178467</td>\n",
       "      <td>16312670</td>\n",
       "      <td>-0.008169</td>\n",
       "    </tr>\n",
       "    <tr>\n",
       "      <th>5</th>\n",
       "      <td>2020-11-02</td>\n",
       "      <td>2660.000000</td>\n",
       "      <td>2721.850098</td>\n",
       "      <td>2600.050049</td>\n",
       "      <td>2707.449951</td>\n",
       "      <td>2563.513428</td>\n",
       "      <td>17045316</td>\n",
       "      <td>0.015986</td>\n",
       "    </tr>\n",
       "  </tbody>\n",
       "</table>\n",
       "</div>"
      ],
      "text/plain": [
       "         Date         Open         High          Low        Close  \\\n",
       "1  2020-10-05  2620.000000  2885.000000  2603.050049  2812.949951   \n",
       "2  2020-10-12  2815.500000  2854.899902  2727.000000  2763.300049   \n",
       "3  2020-10-19  2774.000000  2774.000000  2638.100098  2686.800049   \n",
       "4  2020-10-26  2689.949951  2718.149902  2600.250000  2664.850098   \n",
       "5  2020-11-02  2660.000000  2721.850098  2600.050049  2707.449951   \n",
       "\n",
       "     Adj Close    Volume  Weekly_Return  \n",
       "1  2652.096924  64493147       0.114724  \n",
       "2  2605.286865  25132145      -0.017650  \n",
       "3  2543.961182  20068995      -0.023539  \n",
       "4  2523.178467  16312670      -0.008169  \n",
       "5  2563.513428  17045316       0.015986  "
      ]
     },
     "metadata": {},
     "output_type": "display_data"
    }
   ],
   "source": [
    "tcs['Weekly_Return'] = tcs['Adj Close'].pct_change()\n",
    "tcs.dropna(inplace = True)\n",
    "tcs_weekly_return = tcs['Weekly_Return']\n",
    "tcs_avg_weekly_return = tcs_weekly_return.mean()\n",
    "\n",
    "print(f'TCS Average Weekly Return: {tcs_avg_weekly_return}')\n",
    "display(tcs.head())"
   ]
  },
  {
   "cell_type": "markdown",
   "id": "89191f95",
   "metadata": {},
   "source": [
    "## Beta (Weekly)"
   ]
  },
  {
   "cell_type": "markdown",
   "id": "f16bfba9",
   "metadata": {},
   "source": [
    "$ \\beta = \\frac{Covariance(Returns_{stock}, Returns_{market})}{Variance(Returns_{market})} $"
   ]
  },
  {
   "cell_type": "code",
   "execution_count": 7,
   "id": "844d43c0",
   "metadata": {},
   "outputs": [
    {
     "name": "stdout",
     "output_type": "stream",
     "text": [
      "Beta Weekly: 0.8350315360320257\n"
     ]
    }
   ],
   "source": [
    "w_covariance = tcs_weekly_return.cov(n50_weekly_return)\n",
    "w_variance = n50_weekly_return.var()\n",
    "\n",
    "beta_weekly = w_covariance/w_variance\n",
    "print(f'Beta Weekly: {beta_weekly}')"
   ]
  },
  {
   "cell_type": "markdown",
   "id": "ca8e5925",
   "metadata": {},
   "source": [
    "## CAPM (Weekly)"
   ]
  },
  {
   "cell_type": "markdown",
   "id": "13e4057c",
   "metadata": {},
   "source": [
    "\n",
    "$ E(R_i) = R_f + \\beta_i (E(R_m) - R_f) $\n",
    "\n",
    "Where:\n",
    "- $ E(R_i) $ is the expected return on the asset in question.\n",
    "- $ R_f $ is the risk-free rate.\n",
    "- $ \\beta_i $ is the beta coefficient for the asset, which measures its sensitivity to the overall market.\n",
    "- $ E(R_m) $ is the expected return on the market portfolio.\n"
   ]
  },
  {
   "cell_type": "code",
   "execution_count": 8,
   "id": "8cd5ad32",
   "metadata": {},
   "outputs": [
    {
     "name": "stdout",
     "output_type": "stream",
     "text": [
      "CAPM Weekly: 0.0031641291485776622\n"
     ]
    }
   ],
   "source": [
    "CAPM_weekly = risk_free_rate + beta_weekly * (n50_avg_weekly_return - risk_free_rate)\n",
    "print(f'CAPM Weekly: {CAPM_weekly}')"
   ]
  },
  {
   "cell_type": "markdown",
   "id": "a434c0b3",
   "metadata": {},
   "source": [
    "## Result (Weekly)"
   ]
  },
  {
   "cell_type": "code",
   "execution_count": 9,
   "id": "f4f53a89",
   "metadata": {},
   "outputs": [
    {
     "name": "stdout",
     "output_type": "stream",
     "text": [
      "Nifty50 Annual Return Based on Weekly Investments: 0.19131089471193374 \n",
      " TCS Annual Return Based on Weekly Investments: 0.15583583662091707 \n",
      " Beta Weekly: 0.8350315360320257 \n",
      " CAPM Annual Expected Return based on Weekly Investments: 0.16453471572603845\n"
     ]
    }
   ],
   "source": [
    "print(\n",
    "f'Nifty50 Annual Return Based on Weekly Investments: {n50_avg_weekly_return*52}', '\\n',\n",
    "f'TCS Annual Return Based on Weekly Investments: {tcs_avg_weekly_return*52}', '\\n',\n",
    "f'Beta Weekly: {beta_weekly}', '\\n',\n",
    "f'CAPM Annual Expected Return based on Weekly Investments: {CAPM_weekly*52}'\n",
    ")"
   ]
  },
  {
   "cell_type": "markdown",
   "id": "95ac880d",
   "metadata": {},
   "source": [
    "## Files Containing Historical Monthly Data"
   ]
  },
  {
   "cell_type": "markdown",
   "id": "980c892c",
   "metadata": {},
   "source": [
    "- **Source:** Yahoo Finance ([TCS](https://finance.yahoo.com/quote/TCS.NS/history?p=TCS.NS))([Nifty50](https://finance.yahoo.com/quote/%5ENSEI/history?p=%5ENSEI))\n",
    "- **Time Period:** 30Sept2020 to 30Sept2023\n",
    "- **Frequency:** Monthly"
   ]
  },
  {
   "cell_type": "markdown",
   "id": "7908f008",
   "metadata": {},
   "source": [
    "- The weeky data could have been downsampled to Monthly frequency but I didn't do that as misalignment of some dates might lead erroneous results\n",
    "- Instead, I downloaded the data with monthly frequency from the same source.\n",
    "- And in fact, the downsampled data really gave slightly different result from this original monthly data even though they are from the same source."
   ]
  },
  {
   "cell_type": "code",
   "execution_count": 10,
   "id": "7ec6152a",
   "metadata": {},
   "outputs": [],
   "source": [
    "n50_monthly = pd.read_csv('C:/Users/himan/Documents/Books/Coding Project/Version 1/Databases/Datasets List1/Yahoo Finance/TCS beta Nifty50/Monthly data Nifty50.csv')\n",
    "tcs_monthly = pd.read_csv('C:/Users/himan/Documents/Books/Coding Project/Version 1/Databases/Datasets List1/Yahoo Finance/TCS beta Nifty50\\Monthly data TCS.csv')"
   ]
  },
  {
   "cell_type": "code",
   "execution_count": 11,
   "id": "d8a64cb5",
   "metadata": {},
   "outputs": [
    {
     "data": {
      "text/html": [
       "<div>\n",
       "<style scoped>\n",
       "    .dataframe tbody tr th:only-of-type {\n",
       "        vertical-align: middle;\n",
       "    }\n",
       "\n",
       "    .dataframe tbody tr th {\n",
       "        vertical-align: top;\n",
       "    }\n",
       "\n",
       "    .dataframe thead th {\n",
       "        text-align: right;\n",
       "    }\n",
       "</style>\n",
       "<table border=\"1\" class=\"dataframe\">\n",
       "  <thead>\n",
       "    <tr style=\"text-align: right;\">\n",
       "      <th></th>\n",
       "      <th>Date</th>\n",
       "      <th>Open</th>\n",
       "      <th>High</th>\n",
       "      <th>Low</th>\n",
       "      <th>Close</th>\n",
       "      <th>Adj Close</th>\n",
       "      <th>Volume</th>\n",
       "    </tr>\n",
       "  </thead>\n",
       "  <tbody>\n",
       "    <tr>\n",
       "      <th>0</th>\n",
       "      <td>2020-10-01</td>\n",
       "      <td>11364.450195</td>\n",
       "      <td>12025.450195</td>\n",
       "      <td>11347.049805</td>\n",
       "      <td>11642.400391</td>\n",
       "      <td>11642.400391</td>\n",
       "      <td>11602500</td>\n",
       "    </tr>\n",
       "    <tr>\n",
       "      <th>1</th>\n",
       "      <td>2020-11-01</td>\n",
       "      <td>11697.349609</td>\n",
       "      <td>13145.849609</td>\n",
       "      <td>11557.400391</td>\n",
       "      <td>12968.950195</td>\n",
       "      <td>12968.950195</td>\n",
       "      <td>13004600</td>\n",
       "    </tr>\n",
       "    <tr>\n",
       "      <th>2</th>\n",
       "      <td>2020-12-01</td>\n",
       "      <td>13062.200195</td>\n",
       "      <td>14024.849609</td>\n",
       "      <td>12962.799805</td>\n",
       "      <td>13981.750000</td>\n",
       "      <td>13981.750000</td>\n",
       "      <td>12077600</td>\n",
       "    </tr>\n",
       "    <tr>\n",
       "      <th>3</th>\n",
       "      <td>2021-01-01</td>\n",
       "      <td>13996.099609</td>\n",
       "      <td>14753.549805</td>\n",
       "      <td>13596.750000</td>\n",
       "      <td>13634.599609</td>\n",
       "      <td>13634.599609</td>\n",
       "      <td>13119900</td>\n",
       "    </tr>\n",
       "    <tr>\n",
       "      <th>4</th>\n",
       "      <td>2021-02-01</td>\n",
       "      <td>13758.599609</td>\n",
       "      <td>15431.750000</td>\n",
       "      <td>13661.750000</td>\n",
       "      <td>14529.150391</td>\n",
       "      <td>14529.150391</td>\n",
       "      <td>14313900</td>\n",
       "    </tr>\n",
       "  </tbody>\n",
       "</table>\n",
       "</div>"
      ],
      "text/plain": [
       "         Date          Open          High           Low         Close  \\\n",
       "0  2020-10-01  11364.450195  12025.450195  11347.049805  11642.400391   \n",
       "1  2020-11-01  11697.349609  13145.849609  11557.400391  12968.950195   \n",
       "2  2020-12-01  13062.200195  14024.849609  12962.799805  13981.750000   \n",
       "3  2021-01-01  13996.099609  14753.549805  13596.750000  13634.599609   \n",
       "4  2021-02-01  13758.599609  15431.750000  13661.750000  14529.150391   \n",
       "\n",
       "      Adj Close    Volume  \n",
       "0  11642.400391  11602500  \n",
       "1  12968.950195  13004600  \n",
       "2  13981.750000  12077600  \n",
       "3  13634.599609  13119900  \n",
       "4  14529.150391  14313900  "
      ]
     },
     "metadata": {},
     "output_type": "display_data"
    },
    {
     "data": {
      "text/html": [
       "<div>\n",
       "<style scoped>\n",
       "    .dataframe tbody tr th:only-of-type {\n",
       "        vertical-align: middle;\n",
       "    }\n",
       "\n",
       "    .dataframe tbody tr th {\n",
       "        vertical-align: top;\n",
       "    }\n",
       "\n",
       "    .dataframe thead th {\n",
       "        text-align: right;\n",
       "    }\n",
       "</style>\n",
       "<table border=\"1\" class=\"dataframe\">\n",
       "  <thead>\n",
       "    <tr style=\"text-align: right;\">\n",
       "      <th></th>\n",
       "      <th>Date</th>\n",
       "      <th>Open</th>\n",
       "      <th>High</th>\n",
       "      <th>Low</th>\n",
       "      <th>Close</th>\n",
       "      <th>Adj Close</th>\n",
       "      <th>Volume</th>\n",
       "    </tr>\n",
       "  </thead>\n",
       "  <tbody>\n",
       "    <tr>\n",
       "      <th>0</th>\n",
       "      <td>2020-10-01</td>\n",
       "      <td>2510.0</td>\n",
       "      <td>2885.000000</td>\n",
       "      <td>2492.300049</td>\n",
       "      <td>2664.850098</td>\n",
       "      <td>2512.466553</td>\n",
       "      <td>128617294</td>\n",
       "    </tr>\n",
       "    <tr>\n",
       "      <th>1</th>\n",
       "      <td>2020-11-01</td>\n",
       "      <td>2660.0</td>\n",
       "      <td>2744.000000</td>\n",
       "      <td>2600.050049</td>\n",
       "      <td>2679.649902</td>\n",
       "      <td>2537.191162</td>\n",
       "      <td>65135883</td>\n",
       "    </tr>\n",
       "    <tr>\n",
       "      <th>2</th>\n",
       "      <td>2020-12-01</td>\n",
       "      <td>2679.0</td>\n",
       "      <td>2952.000000</td>\n",
       "      <td>2624.449951</td>\n",
       "      <td>2862.750000</td>\n",
       "      <td>2710.557373</td>\n",
       "      <td>62832148</td>\n",
       "    </tr>\n",
       "    <tr>\n",
       "      <th>3</th>\n",
       "      <td>2021-01-01</td>\n",
       "      <td>2880.0</td>\n",
       "      <td>3339.800049</td>\n",
       "      <td>2879.000000</td>\n",
       "      <td>3111.350098</td>\n",
       "      <td>2945.940674</td>\n",
       "      <td>84685394</td>\n",
       "    </tr>\n",
       "    <tr>\n",
       "      <th>4</th>\n",
       "      <td>2021-02-01</td>\n",
       "      <td>3100.0</td>\n",
       "      <td>3245.800049</td>\n",
       "      <td>2880.000000</td>\n",
       "      <td>2894.300049</td>\n",
       "      <td>2745.645020</td>\n",
       "      <td>65464843</td>\n",
       "    </tr>\n",
       "  </tbody>\n",
       "</table>\n",
       "</div>"
      ],
      "text/plain": [
       "         Date    Open         High          Low        Close    Adj Close  \\\n",
       "0  2020-10-01  2510.0  2885.000000  2492.300049  2664.850098  2512.466553   \n",
       "1  2020-11-01  2660.0  2744.000000  2600.050049  2679.649902  2537.191162   \n",
       "2  2020-12-01  2679.0  2952.000000  2624.449951  2862.750000  2710.557373   \n",
       "3  2021-01-01  2880.0  3339.800049  2879.000000  3111.350098  2945.940674   \n",
       "4  2021-02-01  3100.0  3245.800049  2880.000000  2894.300049  2745.645020   \n",
       "\n",
       "      Volume  \n",
       "0  128617294  \n",
       "1   65135883  \n",
       "2   62832148  \n",
       "3   84685394  \n",
       "4   65464843  "
      ]
     },
     "metadata": {},
     "output_type": "display_data"
    }
   ],
   "source": [
    "display(\n",
    "\n",
    "    n50_monthly.head(),\n",
    "    tcs_monthly.head()\n",
    "    \n",
    ")"
   ]
  },
  {
   "cell_type": "markdown",
   "id": "da55828d",
   "metadata": {},
   "source": [
    "# Monthly Return of TCS and Nifty50"
   ]
  },
  {
   "cell_type": "code",
   "execution_count": 12,
   "id": "f6134b77",
   "metadata": {},
   "outputs": [
    {
     "name": "stdout",
     "output_type": "stream",
     "text": [
      "Nifty50 Monthly Return Average: 0.015428547479970954\n"
     ]
    },
    {
     "data": {
      "text/html": [
       "<div>\n",
       "<style scoped>\n",
       "    .dataframe tbody tr th:only-of-type {\n",
       "        vertical-align: middle;\n",
       "    }\n",
       "\n",
       "    .dataframe tbody tr th {\n",
       "        vertical-align: top;\n",
       "    }\n",
       "\n",
       "    .dataframe thead th {\n",
       "        text-align: right;\n",
       "    }\n",
       "</style>\n",
       "<table border=\"1\" class=\"dataframe\">\n",
       "  <thead>\n",
       "    <tr style=\"text-align: right;\">\n",
       "      <th></th>\n",
       "      <th>Date</th>\n",
       "      <th>Open</th>\n",
       "      <th>High</th>\n",
       "      <th>Low</th>\n",
       "      <th>Close</th>\n",
       "      <th>Adj Close</th>\n",
       "      <th>Volume</th>\n",
       "      <th>Monthly_Return</th>\n",
       "    </tr>\n",
       "  </thead>\n",
       "  <tbody>\n",
       "    <tr>\n",
       "      <th>1</th>\n",
       "      <td>2020-11-01</td>\n",
       "      <td>11697.349609</td>\n",
       "      <td>13145.849609</td>\n",
       "      <td>11557.400391</td>\n",
       "      <td>12968.950195</td>\n",
       "      <td>12968.950195</td>\n",
       "      <td>13004600</td>\n",
       "      <td>0.113941</td>\n",
       "    </tr>\n",
       "    <tr>\n",
       "      <th>2</th>\n",
       "      <td>2020-12-01</td>\n",
       "      <td>13062.200195</td>\n",
       "      <td>14024.849609</td>\n",
       "      <td>12962.799805</td>\n",
       "      <td>13981.750000</td>\n",
       "      <td>13981.750000</td>\n",
       "      <td>12077600</td>\n",
       "      <td>0.078094</td>\n",
       "    </tr>\n",
       "    <tr>\n",
       "      <th>3</th>\n",
       "      <td>2021-01-01</td>\n",
       "      <td>13996.099609</td>\n",
       "      <td>14753.549805</td>\n",
       "      <td>13596.750000</td>\n",
       "      <td>13634.599609</td>\n",
       "      <td>13634.599609</td>\n",
       "      <td>13119900</td>\n",
       "      <td>-0.024829</td>\n",
       "    </tr>\n",
       "    <tr>\n",
       "      <th>4</th>\n",
       "      <td>2021-02-01</td>\n",
       "      <td>13758.599609</td>\n",
       "      <td>15431.750000</td>\n",
       "      <td>13661.750000</td>\n",
       "      <td>14529.150391</td>\n",
       "      <td>14529.150391</td>\n",
       "      <td>14313900</td>\n",
       "      <td>0.065609</td>\n",
       "    </tr>\n",
       "    <tr>\n",
       "      <th>5</th>\n",
       "      <td>2021-03-01</td>\n",
       "      <td>14702.500000</td>\n",
       "      <td>15336.299805</td>\n",
       "      <td>14264.400391</td>\n",
       "      <td>14690.700195</td>\n",
       "      <td>14690.700195</td>\n",
       "      <td>9886800</td>\n",
       "      <td>0.011119</td>\n",
       "    </tr>\n",
       "  </tbody>\n",
       "</table>\n",
       "</div>"
      ],
      "text/plain": [
       "         Date          Open          High           Low         Close  \\\n",
       "1  2020-11-01  11697.349609  13145.849609  11557.400391  12968.950195   \n",
       "2  2020-12-01  13062.200195  14024.849609  12962.799805  13981.750000   \n",
       "3  2021-01-01  13996.099609  14753.549805  13596.750000  13634.599609   \n",
       "4  2021-02-01  13758.599609  15431.750000  13661.750000  14529.150391   \n",
       "5  2021-03-01  14702.500000  15336.299805  14264.400391  14690.700195   \n",
       "\n",
       "      Adj Close    Volume  Monthly_Return  \n",
       "1  12968.950195  13004600        0.113941  \n",
       "2  13981.750000  12077600        0.078094  \n",
       "3  13634.599609  13119900       -0.024829  \n",
       "4  14529.150391  14313900        0.065609  \n",
       "5  14690.700195   9886800        0.011119  "
      ]
     },
     "execution_count": 12,
     "metadata": {},
     "output_type": "execute_result"
    }
   ],
   "source": [
    "\n",
    "n50_monthly['Monthly_Return'] = n50_monthly['Adj Close'].pct_change()\n",
    "n50_monthly.dropna(inplace = True)\n",
    "n50_monthly_return = n50_monthly['Monthly_Return']\n",
    "\n",
    "n50_avg_monthly_return = n50_monthly_return.mean()\n",
    "print(f'Nifty50 Monthly Return Average: {n50_avg_monthly_return}')\n",
    "n50_monthly.head()"
   ]
  },
  {
   "cell_type": "code",
   "execution_count": 13,
   "id": "f24774a3",
   "metadata": {},
   "outputs": [
    {
     "name": "stdout",
     "output_type": "stream",
     "text": [
      "TCS Monthly Return Average: 0.011090026607052892\n"
     ]
    },
    {
     "data": {
      "text/html": [
       "<div>\n",
       "<style scoped>\n",
       "    .dataframe tbody tr th:only-of-type {\n",
       "        vertical-align: middle;\n",
       "    }\n",
       "\n",
       "    .dataframe tbody tr th {\n",
       "        vertical-align: top;\n",
       "    }\n",
       "\n",
       "    .dataframe thead th {\n",
       "        text-align: right;\n",
       "    }\n",
       "</style>\n",
       "<table border=\"1\" class=\"dataframe\">\n",
       "  <thead>\n",
       "    <tr style=\"text-align: right;\">\n",
       "      <th></th>\n",
       "      <th>Date</th>\n",
       "      <th>Open</th>\n",
       "      <th>High</th>\n",
       "      <th>Low</th>\n",
       "      <th>Close</th>\n",
       "      <th>Adj Close</th>\n",
       "      <th>Volume</th>\n",
       "      <th>Monthly_Return</th>\n",
       "    </tr>\n",
       "  </thead>\n",
       "  <tbody>\n",
       "    <tr>\n",
       "      <th>1</th>\n",
       "      <td>2020-11-01</td>\n",
       "      <td>2660.0</td>\n",
       "      <td>2744.000000</td>\n",
       "      <td>2600.050049</td>\n",
       "      <td>2679.649902</td>\n",
       "      <td>2537.191162</td>\n",
       "      <td>65135883</td>\n",
       "      <td>0.009841</td>\n",
       "    </tr>\n",
       "    <tr>\n",
       "      <th>2</th>\n",
       "      <td>2020-12-01</td>\n",
       "      <td>2679.0</td>\n",
       "      <td>2952.000000</td>\n",
       "      <td>2624.449951</td>\n",
       "      <td>2862.750000</td>\n",
       "      <td>2710.557373</td>\n",
       "      <td>62832148</td>\n",
       "      <td>0.068330</td>\n",
       "    </tr>\n",
       "    <tr>\n",
       "      <th>3</th>\n",
       "      <td>2021-01-01</td>\n",
       "      <td>2880.0</td>\n",
       "      <td>3339.800049</td>\n",
       "      <td>2879.000000</td>\n",
       "      <td>3111.350098</td>\n",
       "      <td>2945.940674</td>\n",
       "      <td>84685394</td>\n",
       "      <td>0.086839</td>\n",
       "    </tr>\n",
       "    <tr>\n",
       "      <th>4</th>\n",
       "      <td>2021-02-01</td>\n",
       "      <td>3100.0</td>\n",
       "      <td>3245.800049</td>\n",
       "      <td>2880.000000</td>\n",
       "      <td>2894.300049</td>\n",
       "      <td>2745.645020</td>\n",
       "      <td>65464843</td>\n",
       "      <td>-0.067990</td>\n",
       "    </tr>\n",
       "    <tr>\n",
       "      <th>5</th>\n",
       "      <td>2021-03-01</td>\n",
       "      <td>2926.0</td>\n",
       "      <td>3205.000000</td>\n",
       "      <td>2901.800049</td>\n",
       "      <td>3177.850098</td>\n",
       "      <td>3014.631592</td>\n",
       "      <td>71839377</td>\n",
       "      <td>0.097968</td>\n",
       "    </tr>\n",
       "  </tbody>\n",
       "</table>\n",
       "</div>"
      ],
      "text/plain": [
       "         Date    Open         High          Low        Close    Adj Close  \\\n",
       "1  2020-11-01  2660.0  2744.000000  2600.050049  2679.649902  2537.191162   \n",
       "2  2020-12-01  2679.0  2952.000000  2624.449951  2862.750000  2710.557373   \n",
       "3  2021-01-01  2880.0  3339.800049  2879.000000  3111.350098  2945.940674   \n",
       "4  2021-02-01  3100.0  3245.800049  2880.000000  2894.300049  2745.645020   \n",
       "5  2021-03-01  2926.0  3205.000000  2901.800049  3177.850098  3014.631592   \n",
       "\n",
       "     Volume  Monthly_Return  \n",
       "1  65135883        0.009841  \n",
       "2  62832148        0.068330  \n",
       "3  84685394        0.086839  \n",
       "4  65464843       -0.067990  \n",
       "5  71839377        0.097968  "
      ]
     },
     "execution_count": 13,
     "metadata": {},
     "output_type": "execute_result"
    }
   ],
   "source": [
    "\n",
    "tcs_monthly['Monthly_Return'] = tcs_monthly['Adj Close'].pct_change()\n",
    "tcs_monthly.dropna(inplace = True)\n",
    "\n",
    "tcs_monthly_return = tcs_monthly['Monthly_Return']\n",
    "\n",
    "tcs_avg_monthly_return = tcs_monthly_return.mean()\n",
    "print(f'TCS Monthly Return Average: {tcs_avg_monthly_return}')\n",
    "tcs_monthly.head()"
   ]
  },
  {
   "cell_type": "markdown",
   "id": "9ff133e6",
   "metadata": {},
   "source": [
    "## Beta (Monthly)"
   ]
  },
  {
   "cell_type": "code",
   "execution_count": 14,
   "id": "8772242f",
   "metadata": {},
   "outputs": [
    {
     "data": {
      "text/plain": [
       "0.5808944085350548"
      ]
     },
     "execution_count": 14,
     "metadata": {},
     "output_type": "execute_result"
    }
   ],
   "source": [
    "beta_monthly = tcs_monthly_return.cov(n50_monthly_return) / n50_monthly_return.var()\n",
    "beta_monthly"
   ]
  },
  {
   "cell_type": "markdown",
   "id": "bacded6c",
   "metadata": {},
   "source": [
    "## CAPM (Monthly)"
   ]
  },
  {
   "cell_type": "code",
   "execution_count": 15,
   "id": "25d3aaf2",
   "metadata": {},
   "outputs": [
    {
     "data": {
      "text/plain": [
       "0.11035306712884287"
      ]
     },
     "execution_count": 15,
     "metadata": {},
     "output_type": "execute_result"
    }
   ],
   "source": [
    "CAPM_monthly = risk_free_rate + beta_monthly * (n50_avg_monthly_return - risk_free_rate)\n",
    "CAPM_monthly*12"
   ]
  },
  {
   "cell_type": "markdown",
   "id": "622a5183",
   "metadata": {},
   "source": [
    "## Result (Monthly)"
   ]
  },
  {
   "cell_type": "code",
   "execution_count": 16,
   "id": "6e1d4510",
   "metadata": {},
   "outputs": [
    {
     "name": "stdout",
     "output_type": "stream",
     "text": [
      "TCS Annual Return on Monthly Investments: 0.1330803192846347\n",
      "Nifty50 Annual Returns on Monthly Investments: 0.18514256975965146\n",
      "Beta Monthly: 0.5808944085350548\n",
      "CAPM Expected Annual Return For TCS Monthly Investments: 0.11035306712884287\n"
     ]
    }
   ],
   "source": [
    "print(f'TCS Annual Return on Monthly Investments: {tcs_avg_monthly_return*12}')\n",
    "print(f'Nifty50 Annual Returns on Monthly Investments: {n50_avg_monthly_return*12}')\n",
    "print(f'Beta Monthly: {beta_monthly}')\n",
    "print(f'CAPM Expected Annual Return For TCS Monthly Investments: {CAPM_monthly*12}')"
   ]
  },
  {
   "cell_type": "markdown",
   "id": "7a775bd3",
   "metadata": {},
   "source": [
    "## Distribution of Returns"
   ]
  },
  {
   "cell_type": "code",
   "execution_count": 17,
   "id": "e0442f49",
   "metadata": {},
   "outputs": [
    {
     "data": {
      "text/plain": [
       "Text(0, 0.5, '')"
      ]
     },
     "execution_count": 17,
     "metadata": {},
     "output_type": "execute_result"
    },
    {
     "data": {
      "image/png": "[encoded data removed]",
      "text/plain": [
       "<Figure size 1500x1000 with 4 Axes>"
      ]
     },
     "metadata": {},
     "output_type": "display_data"
    }
   ],
   "source": [
    "plt.figure(figsize = (15,10))\n",
    "\n",
    "plt.subplot(2,2,1)\n",
    "sns.histplot(data = tcs,\n",
    "            x = 'Weekly_Return', kde = True, color = '#B2533E')\n",
    "plt.xlabel('TCS Weekly Returns')\n",
    "plt.ylabel('')\n",
    "\n",
    "plt.subplot(2,2,2)\n",
    "sns.histplot(data = tcs_monthly,\n",
    "            x = 'Monthly_Return', kde = True, color = '#B2533E')\n",
    "plt.xlabel('TCS Monthly Returns')\n",
    "plt.ylabel('')\n",
    "\n",
    "plt.subplot(2,2,3)\n",
    "sns.histplot(data = n50,\n",
    "            x = 'Weekly_Return', kde = True, color = '#4E8397')\n",
    "plt.xlabel('Nifty50 Weekly Return')\n",
    "plt.ylabel('')\n",
    "\n",
    "plt.subplot(2,2,4)\n",
    "sns.histplot(data = n50_monthly,\n",
    "            x = 'Monthly_Return', kde = True, color = '#4E8397')\n",
    "plt.xlabel('Nifty50 Monthly Return')\n",
    "plt.ylabel('')"
   ]
  },
  {
   "cell_type": "markdown",
   "id": "3e86e4ce",
   "metadata": {},
   "source": [
    "# Comparative Analysis: Weekly vs. Monthly Investment Returns for Nifty50 and TCS\n"
   ]
  },
  {
   "cell_type": "markdown",
   "id": "9145c9c9",
   "metadata": {},
   "source": [
    "\n",
    "1. **Annual Returns on Weekly Investments vs. Monthly Investments**:\n",
    "   - **Nifty50**:\n",
    "     - Weekly Investments: 19.13%\n",
    "     - Monthly Investments: 15.14%\n",
    "     - **Analysis**: Nifty50 provided higher returns on weekly investments when compared to monthly investments. There's a difference of almost 4% annually, suggesting that the frequent investment strategy (weekly) might have capitalized more on market opportunities.\n",
    "     \n",
    "   - **TCS**:\n",
    "     - Weekly Investments: 15.58%\n",
    "     - Monthly Investments: 13.31%\n",
    "     - **Analysis**: Similar to Nifty50, TCS too recorded higher annual returns when invested weekly as opposed to monthly. The difference here is roughly 2.27%. This indicates that weekly investments might have offered better average purchase prices over the year, thereby leading to superior returns.\n",
    "\n",
    "2. **Beta (Systematic Risk)**:\n",
    "   - **Weekly**: \n",
    "     - TCS: 0.835 \n",
    "     - **Analysis**: A beta value less than 1 suggests that TCS has lower volatility in comparison to the Nifty50 on a weekly basis. Hence, TCS is relatively less risky on a weekly timeframe.\n",
    "\n",
    "   - **Monthly**:\n",
    "     - TCS: 0.5809\n",
    "     - **Analysis**: On a monthly scale, the beta value for TCS further decreases, emphasizing that TCS is even less volatile and hence less risky compared to Nifty50 on a monthly basis.\n",
    "\n",
    "3. **CAPM (Capital Asset Pricing Model) Expected Returns**:\n",
    "   - **Weekly**:\n",
    "     - TCS: 16.45%\n",
    "     - **Analysis**: Based on the CAPM model, the expected return for TCS on a weekly investment basis is 16.45%. This is slightly higher than its actual return of 15.58%, suggesting that TCS might have slightly underperformed against the expected return for the risk undertaken.\n",
    "     \n",
    "   - **Monthly**:\n",
    "     - TCS: 11.04%\n",
    "     - **Analysis**: On a monthly scale, the CAPM expected return is 11.04%, which is lower than the weekly expected return. It is also lower than the actual return of 13.35% for monthly investments. This suggests that TCS has outperformed the expected return for the risk undertaken on a monthly scale.\n",
    "\n",
    "**Overall Insights**:\n",
    "\n",
    "- Both Nifty50 and TCS have shown higher returns on weekly investments compared to monthly investments.\n",
    "  \n",
    "- TCS has consistently shown lower volatility (beta) compared to Nifty50, whether on a weekly or monthly basis. This makes TCS a relatively safer investment in terms of market-induced volatility.\n",
    "  \n",
    "- Based on the CAPM model, TCS has slightly underperformed on a weekly investment scale but outperformed on a monthly scale when compared to the expected returns for the respective risks."
   ]
  }
 ],
 "metadata": {
  "kernelspec": {
   "display_name": "Python 3 (ipykernel)",
   "language": "python",
   "name": "python3"
  },
  "language_info": {
   "codemirror_mode": {
    "name": "ipython",
    "version": 3
   },
   "file_extension": ".py",
   "mimetype": "text/x-python",
   "name": "python",
   "nbconvert_exporter": "python",
   "pygments_lexer": "ipython3",
   "version": "3.11.4"
  },
  "toc": {
   "base_numbering": 1,
   "nav_menu": {},
   "number_sections": true,
   "sideBar": true,
   "skip_h1_title": false,
   "title_cell": "Table of Contents",
   "title_sidebar": "Contents",
   "toc_cell": false,
   "toc_position": {},
   "toc_section_display": true,
   "toc_window_display": false
  }
 },
 "nbformat": 4,
 "nbformat_minor": 5
}
